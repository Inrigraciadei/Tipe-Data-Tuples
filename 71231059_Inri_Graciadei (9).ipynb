{
  "nbformat": 4,
  "nbformat_minor": 0,
  "metadata": {
    "colab": {
      "provenance": []
    },
    "kernelspec": {
      "name": "python3",
      "display_name": "Python 3"
    },
    "language_info": {
      "name": "python"
    }
  },
  "cells": [
    {
      "cell_type": "code",
      "execution_count": null,
      "metadata": {
        "id": "GupN7tNFXkQs"
      },
      "outputs": [],
      "source": [
        "Soal 1"
      ]
    },
    {
      "cell_type": "code",
      "source": [
        "def cek_elemen(tuple):\n",
        "    g = 0\n",
        "    hasil = False\n",
        "    for i in tuple:\n",
        "        if i == g:\n",
        "            hasil = True\n",
        "        else:\n",
        "            hasil = False\n",
        "        g = i\n",
        "    return hasil\n",
        "\n",
        "tA = (90,90,90,90)\n",
        "print(cek_elemen(tA))"
      ],
      "metadata": {
        "colab": {
          "base_uri": "https://localhost:8080/"
        },
        "id": "3zqQPieWX1pT",
        "outputId": "14f0d3c6-4156-42a0-911b-cf9227f4a8da"
      },
      "execution_count": 1,
      "outputs": [
        {
          "output_type": "stream",
          "name": "stdout",
          "text": [
            "True\n"
          ]
        }
      ]
    },
    {
      "cell_type": "markdown",
      "source": [
        "Soal 2"
      ],
      "metadata": {
        "id": "jqxf0_zGYH2a"
      }
    },
    {
      "cell_type": "code",
      "source": [
        "import re\n",
        "\n",
        "def data_diri(data):\n",
        "    for i in data:\n",
        "        x = re.search(',', i)\n",
        "        if i.isdigit():\n",
        "            nim = i\n",
        "        elif x:\n",
        "            alamat = i\n",
        "        else:\n",
        "            nama = i\n",
        "    print(f'''\n",
        "    NIM\\t\\t: {nim}\n",
        "    NAMA\\t: {nama}\n",
        "    ALAMAT\\t: {alamat}\n",
        "    ''')\n",
        "\n",
        "    nim_baru = []\n",
        "    for i in nim:\n",
        "        nim_baru.append(i)\n",
        "\n",
        "    nama = nama.split()\n",
        "    nama_depan = []\n",
        "    for i in nama[0]:\n",
        "        nama_depan.append(i)\n",
        "\n",
        "    nama_terbalik = []\n",
        "    for i in range(len(nama)-1, -1, -1):\n",
        "        nama_terbalik.append(nama[i])\n",
        "\n",
        "    print(f'''\n",
        "    NIM\\t\\t\\t: {tuple(nim_baru)}\n",
        "    NAMA DEPAN\\t\\t: {tuple(nama_depan)}\n",
        "    NAMA TERBALIK\\t: {tuple(nama_terbalik)}\n",
        "    ''')\n",
        "\n",
        "data = ('Manokwari, Papua Barat', 'Inri Graciadei Magistra Melsdy', '71231059')\n",
        "data_diri(data)"
      ],
      "metadata": {
        "colab": {
          "base_uri": "https://localhost:8080/"
        },
        "id": "p-dz6fJVYJrp",
        "outputId": "2919605a-2fb0-48b9-c790-2e1789557b64"
      },
      "execution_count": 5,
      "outputs": [
        {
          "output_type": "stream",
          "name": "stdout",
          "text": [
            "\n",
            "    NIM\t\t: 71231059\n",
            "    NAMA\t: Inri Graciadei Magistra Melsdy\n",
            "    ALAMAT\t: Manokwari, Papua Barat\n",
            "    \n",
            "\n",
            "    NIM\t\t\t: ('7', '1', '2', '3', '1', '0', '5', '9')\n",
            "    NAMA DEPAN\t\t: ('I', 'n', 'r', 'i')\n",
            "    NAMA TERBALIK\t: ('Melsdy', 'Magistra', 'Graciadei', 'Inri')\n",
            "    \n"
          ]
        }
      ]
    },
    {
      "cell_type": "markdown",
      "source": [
        "Soal 3"
      ],
      "metadata": {
        "id": "9MrV3ktFZz0n"
      }
    },
    {
      "cell_type": "code",
      "source": [
        "dic_waktu = dict()\n",
        "daftar = list()\n",
        "file_name = input(\"Masukkan nama file: \")\n",
        "try:\n",
        "    file_handle = open(file_name)\n",
        "except:\n",
        "    print(\"File tidak tersedia\")\n",
        "    exit()\n",
        "\n",
        "for line in file_handle:\n",
        "    if line.startswith('From '):\n",
        "        words = line.split()\n",
        "        waktu = words[5]\n",
        "        jam = waktu.split(':')[0]\n",
        "        if jam not in dic_waktu:\n",
        "            dic_waktu[jam] = 1\n",
        "        else:\n",
        "            dic_waktu[jam] += 1\n",
        "\n",
        "for key, value in dic_waktu.items():\n",
        "    daftar.append((key, value))\n",
        "\n",
        "daftar.sort()\n",
        "\n",
        "for key, value in daftar:\n",
        "    print(key, value)"
      ],
      "metadata": {
        "id": "GNWPOdROZ06C"
      },
      "execution_count": null,
      "outputs": []
    }
  ]
}